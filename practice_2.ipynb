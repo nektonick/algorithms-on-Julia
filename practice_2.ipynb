{
 "cells": [
  {
   "cell_type": "markdown",
   "metadata": {},
   "source": [
    "# В этом файле будут находится решения задач по основам алгоритмики 2 семестра.\n",
    "***"
   ]
  },
  {
   "cell_type": "markdown",
   "metadata": {},
   "source": [
    "## Задание 1\n",
    "Написать функцию `sortkey(key_values, a)`, получающую на вход некоторый вектор `a`, и соответствующий вектор `keyvalues` ключевых значений элементов вектора `a`, осуществляющую сортировку вектора `a` по ключевым значениям его элементов, и возвращающую ссылку на вектор `a`. (Для сортировки вектора ключевых значений можно востпользоваться одной из разработанных в пункте 1 функций, или соответствующей встроенной функцией)."
   ]
  },
  {
   "cell_type": "code",
   "execution_count": 1,
   "metadata": {},
   "outputs": [
    {
     "data": {
      "text/plain": [
       "sortkey! (generic function with 1 method)"
      ]
     },
     "execution_count": 1,
     "metadata": {},
     "output_type": "execute_result"
    }
   ],
   "source": [
    "function sortkey!(key_values, a)\n",
    "    size = length(key_values)\n",
    "    for i in 1:size\n",
    "        for j in 1:size\n",
    "            if key_values[i] < key_values[j]\n",
    "                key_values[i], key_values[j] = key_values[j], key_values[i]\n",
    "                a[i], a[j] = a[j], a[i]\n",
    "            end\n",
    "        end\n",
    "    end\n",
    "    return a\n",
    "end"
   ]
  },
  {
   "cell_type": "code",
   "execution_count": 2,
   "metadata": {},
   "outputs": [
    {
     "data": {
      "text/plain": [
       "1×3 Array{Int64,2}:\n",
       " 7  5  1"
      ]
     },
     "execution_count": 2,
     "metadata": {},
     "output_type": "execute_result"
    }
   ],
   "source": [
    "massive = [1 5 7]\n",
    "keys_ = [3 2 1]\n",
    "sortkey!(keys_, massive)"
   ]
  },
  {
   "cell_type": "markdown",
   "metadata": {},
   "source": [
    "Проверим, что `massive` действительно изменился:"
   ]
  },
  {
   "cell_type": "code",
   "execution_count": 3,
   "metadata": {
    "scrolled": true
   },
   "outputs": [
    {
     "data": {
      "text/plain": [
       "1×3 Array{Int64,2}:\n",
       " 7  5  1"
      ]
     },
     "execution_count": 3,
     "metadata": {},
     "output_type": "execute_result"
    }
   ],
   "source": [
    "massive"
   ]
  },
  {
   "cell_type": "markdown",
   "metadata": {},
   "source": [
    "## Задание 2\n",
    "С использованием разработанной функции `sortkey` написать функцию высшего порядка, с тем же именем `sortkey`, но вместо массива ключевых значений получающую на вход ключевую функцию и массив элементов некоторого типа, на множестве значений которых должна быть определена данная ключевая функция."
   ]
  },
  {
   "cell_type": "code",
   "execution_count": 4,
   "metadata": {},
   "outputs": [
    {
     "data": {
      "text/plain": [
       "sortkey! (generic function with 2 methods)"
      ]
     },
     "execution_count": 4,
     "metadata": {},
     "output_type": "execute_result"
    }
   ],
   "source": [
    "function sortkey!(func::Function, a)\n",
    "    sortkey!(func.(a), a)\n",
    "end"
   ]
  },
  {
   "cell_type": "code",
   "execution_count": 5,
   "metadata": {
    "scrolled": true
   },
   "outputs": [
    {
     "data": {
      "text/plain": [
       "1×3 Array{Int64,2}:\n",
       " 5  1  7"
      ]
     },
     "execution_count": 5,
     "metadata": {},
     "output_type": "execute_result"
    }
   ],
   "source": [
    "massive = [1 5 7]\n",
    "function func_(a)  \n",
    "    return a != 5\n",
    "end\n",
    "sortkey!(func_, massive)"
   ]
  },
  {
   "cell_type": "markdown",
   "metadata": {},
   "source": [
    "Проверим, что massive действительно изменился:"
   ]
  },
  {
   "cell_type": "code",
   "execution_count": 6,
   "metadata": {
    "scrolled": true
   },
   "outputs": [
    {
     "data": {
      "text/plain": [
       "1×3 Array{Int64,2}:\n",
       " 5  1  7"
      ]
     },
     "execution_count": 6,
     "metadata": {},
     "output_type": "execute_result"
    }
   ],
   "source": [
    "massive"
   ]
  },
  {
   "cell_type": "markdown",
   "metadata": {},
   "source": [
    "## Задание 3\n",
    "С использованием этой последней функции отсортировать столбцы какой-либо заданной числовой матрицы в порядке\n",
    "1. не убывания их сумм\n",
    "2. не убывания числа нулей в них"
   ]
  },
  {
   "cell_type": "markdown",
   "metadata": {},
   "source": [
    "Сначала введём вспомогательные функции: неубывание сумм и неубывание нулей"
   ]
  },
  {
   "cell_type": "code",
   "execution_count": 7,
   "metadata": {
    "scrolled": true
   },
   "outputs": [
    {
     "data": {
      "text/plain": [
       "non_decreasing_zeroz (generic function with 1 method)"
      ]
     },
     "execution_count": 7,
     "metadata": {},
     "output_type": "execute_result"
    }
   ],
   "source": [
    "function non_decreasing_amounts(a)\n",
    "    return sum(a)\n",
    "end\n",
    "\n",
    "function non_decreasing_zeroz(a)\n",
    "    return count(i->(i==0), a)\n",
    "end"
   ]
  },
  {
   "cell_type": "markdown",
   "metadata": {},
   "source": [
    "Требуемые функции сортировки:"
   ]
  },
  {
   "cell_type": "code",
   "execution_count": 8,
   "metadata": {},
   "outputs": [
    {
     "data": {
      "text/plain": [
       "sort2! (generic function with 1 method)"
      ]
     },
     "execution_count": 8,
     "metadata": {},
     "output_type": "execute_result"
    }
   ],
   "source": [
    "function sort1!(matrix)\n",
    "    vec_colons = [@view matrix[:,j] for j in 1:size(matrix,2)]\n",
    "    vec_colons = sortkey!(non_decreasing_amounts, vec_colons)\n",
    "    matrix = hcat(hcat(vec_colons...))\n",
    "    return matrix\n",
    "end\n",
    "\n",
    "function sort2!(matrix)\n",
    "    vec_colons = [@view matrix[:,j] for j in 1:size(matrix,2)]\n",
    "    vec_colons = sortkey!(non_decreasing_zeroz, vec_colons)\n",
    "    matrix = hcat(hcat(vec_colons...))\n",
    "    return matrix\n",
    "end"
   ]
  },
  {
   "cell_type": "code",
   "execution_count": 9,
   "metadata": {},
   "outputs": [
    {
     "data": {
      "text/plain": [
       "3×3 Array{Int64,2}:\n",
       " 1   5    3\n",
       " 0   4    9\n",
       " 2  10  102"
      ]
     },
     "execution_count": 9,
     "metadata": {},
     "output_type": "execute_result"
    }
   ],
   "source": [
    "massive = [\n",
    "    1 3 5 \n",
    "    0 9 4 \n",
    "    2 102 10 \n",
    "]\n",
    "sort1!(massive)"
   ]
  },
  {
   "cell_type": "code",
   "execution_count": 10,
   "metadata": {},
   "outputs": [
    {
     "data": {
      "text/plain": [
       "3×3 Array{Int64,2}:\n",
       " 11  0  0\n",
       " 10  5  0\n",
       "  0  1  0"
      ]
     },
     "execution_count": 10,
     "metadata": {},
     "output_type": "execute_result"
    }
   ],
   "source": [
    "massive2 = [\n",
    "    0 11 0 \n",
    "    0 10 5\n",
    "    0 0 1\n",
    "]\n",
    "sort2!(massive2)"
   ]
  },
  {
   "cell_type": "markdown",
   "metadata": {},
   "source": [
    "Стоит отметить, что исходные массивы при этом не изменились:"
   ]
  },
  {
   "cell_type": "code",
   "execution_count": 11,
   "metadata": {},
   "outputs": [
    {
     "data": {
      "text/plain": [
       "3×3 Array{Int64,2}:\n",
       " 1    3   5\n",
       " 0    9   4\n",
       " 2  102  10"
      ]
     },
     "execution_count": 11,
     "metadata": {},
     "output_type": "execute_result"
    }
   ],
   "source": [
    "massive"
   ]
  },
  {
   "cell_type": "code",
   "execution_count": 12,
   "metadata": {},
   "outputs": [
    {
     "data": {
      "text/plain": [
       "3×3 Array{Int64,2}:\n",
       " 0  11  0\n",
       " 0  10  5\n",
       " 0   0  1"
      ]
     },
     "execution_count": 12,
     "metadata": {},
     "output_type": "execute_result"
    }
   ],
   "source": [
    "massive2"
   ]
  },
  {
   "cell_type": "markdown",
   "metadata": {},
   "source": [
    "## Задание 4\n",
    "Написать функцию `calcsort`, реализующую сортировку методом подсчета числа значений. Рассмотреть 2 варианта функции (2 её метода - в терминологии Julia): в первом варианте возможные значения элементов сортируемого массива задаются некоторым диапазоном, во втором - некоторым отсортированным массивом (вектором)."
   ]
  },
  {
   "cell_type": "code",
   "execution_count": 13,
   "metadata": {},
   "outputs": [
    {
     "data": {
      "text/plain": [
       "calcsort"
      ]
     },
     "execution_count": 13,
     "metadata": {},
     "output_type": "execute_result"
    }
   ],
   "source": [
    "\"\"\"\n",
    "Реализация для диапозона из 2 чисел\n",
    "\"\"\"\n",
    "function calcsort(a, diap::NTuple{2, Int})\n",
    "    left_border, right_border = diap\n",
    "    nums_count = right_border - left_border + 1\n",
    "    nums = zeros(Int, nums_count)\n",
    "    for i in a\n",
    "        nums[i - left_border + 1] += 1 \n",
    "    end\n",
    "    my_ans = []\n",
    "    for i in 1:(right_border - left_border + 1)\n",
    "        for j in 1:nums[i]\n",
    "            push!(my_ans, i + left_border - 1)\n",
    "        end\n",
    "    end\n",
    "    return my_ans \n",
    "end\n",
    "\n",
    "\"\"\"\n",
    "Реализация для вектора значений\n",
    "Хотя в общем-то вектор значений здесь никак не используется\n",
    "\"\"\"\n",
    "function calcsort(a, diap::Vector{Int})\n",
    "    nums = Dict{Int64, Int64}()\n",
    "    for i in a\n",
    "        nums[i]= get(nums, i, 0) + 1\n",
    "    end\n",
    "    my_ans = []\n",
    "    for i in sort(collect(keys(nums)))\n",
    "        to_push = [i for j in 1:nums[i]]\n",
    "        push!(my_ans, to_push...)\n",
    "    end\n",
    "    return my_ans \n",
    "end"
   ]
  },
  {
   "cell_type": "markdown",
   "metadata": {},
   "source": [
    "Проверим для интервала:"
   ]
  },
  {
   "cell_type": "code",
   "execution_count": 14,
   "metadata": {
    "scrolled": true
   },
   "outputs": [
    {
     "data": {
      "text/plain": [
       "5-element Array{Any,1}:\n",
       " 3\n",
       " 3\n",
       " 4\n",
       " 5\n",
       " 5"
      ]
     },
     "execution_count": 14,
     "metadata": {},
     "output_type": "execute_result"
    }
   ],
   "source": [
    "massive = [3, 5, 5, 3, 4]\n",
    "vals = (3,5)\n",
    "calcsort(massive, vals) "
   ]
  },
  {
   "cell_type": "markdown",
   "metadata": {},
   "source": [
    "Проверим для вектора значений:"
   ]
  },
  {
   "cell_type": "code",
   "execution_count": 15,
   "metadata": {},
   "outputs": [
    {
     "data": {
      "text/plain": [
       "5-element Array{Any,1}:\n",
       " 1\n",
       " 2\n",
       " 5\n",
       " 5\n",
       " 5"
      ]
     },
     "execution_count": 15,
     "metadata": {},
     "output_type": "execute_result"
    }
   ],
   "source": [
    "massive = [5, 5, 5, 2, 1]\n",
    "vals = [1, 2, 5]\n",
    "calcsort(massive, vals) "
   ]
  },
  {
   "cell_type": "markdown",
   "metadata": {},
   "source": [
    "## Задание 5\n",
    "Применить эту разработанную функцию для сортировки столбцов матрицы по числу находящихся в них нулей."
   ]
  },
  {
   "cell_type": "markdown",
   "metadata": {},
   "source": [
    "### Не представляю, как это можно сделать с моей реализацией calcsort"
   ]
  },
  {
   "cell_type": "markdown",
   "metadata": {},
   "source": [
    "## Задание 6\n",
    "Написать функции `insertsort!`, `insertsort`, `insertsortperm`, `insertsortperm!` (по аналогии с пунктом 1) реализующие алгоритм сортировки вставками"
   ]
  },
  {
   "cell_type": "code",
   "execution_count": 16,
   "metadata": {
    "scrolled": true
   },
   "outputs": [
    {
     "data": {
      "text/plain": [
       "insertsort (generic function with 1 method)"
      ]
     },
     "execution_count": 16,
     "metadata": {},
     "output_type": "execute_result"
    }
   ],
   "source": [
    "function insertsort!(a)\n",
    "    n = length(a)\n",
    "    for i in 2:n\n",
    "        j = i - 1\n",
    "        while j > 0 && a[j] > a[j + 1]\n",
    "            a[j+1], a[j] = a[j], a[j+1]\n",
    "            j -= 1\n",
    "        end \n",
    "    end\n",
    "    return a    \n",
    "end\n",
    "\n",
    "insertsort(a) = insertsort!(copy(a))"
   ]
  },
  {
   "cell_type": "markdown",
   "metadata": {},
   "source": [
    "Проверим, что функция работает верно:"
   ]
  },
  {
   "cell_type": "code",
   "execution_count": 17,
   "metadata": {},
   "outputs": [
    {
     "data": {
      "text/plain": [
       "1×4 Array{Int64,2}:\n",
       " 1  3  4  5"
      ]
     },
     "execution_count": 17,
     "metadata": {},
     "output_type": "execute_result"
    }
   ],
   "source": [
    "massive = [1 5 3 4]\n",
    "insertsort!(massive)"
   ]
  },
  {
   "cell_type": "code",
   "execution_count": 18,
   "metadata": {
    "scrolled": true
   },
   "outputs": [
    {
     "data": {
      "text/plain": [
       "insertsortperm (generic function with 1 method)"
      ]
     },
     "execution_count": 18,
     "metadata": {},
     "output_type": "execute_result"
    }
   ],
   "source": [
    "function insertsortperm!(a)\n",
    "    n = length(a)\n",
    "    b = []\n",
    "    for i in 1:n\n",
    "        push!(b, i)\n",
    "    end\n",
    "    for i in 2:n\n",
    "        j = i - 1\n",
    "        while j > 0 && a[j] > a[j + 1]\n",
    "            a[j+1], a[j] = a[j], a[j+1]\n",
    "            b[j+1], b[j] = b[j], b[j + 1]\n",
    "            j -= 1\n",
    "        end \n",
    "    end\n",
    "\n",
    "    return b\n",
    "end\n",
    "\n",
    "insertsortperm(a) = insertsortperm!(copy(a))"
   ]
  },
  {
   "cell_type": "markdown",
   "metadata": {},
   "source": [
    "Проверим, что функция работает верно:"
   ]
  },
  {
   "cell_type": "code",
   "execution_count": 19,
   "metadata": {},
   "outputs": [
    {
     "data": {
      "text/plain": [
       "4-element Array{Any,1}:\n",
       " 1\n",
       " 3\n",
       " 4\n",
       " 2"
      ]
     },
     "execution_count": 19,
     "metadata": {},
     "output_type": "execute_result"
    }
   ],
   "source": [
    "massive = [1 5 3 4]\n",
    "insertsortperm!(massive)"
   ]
  },
  {
   "cell_type": "code",
   "execution_count": 20,
   "metadata": {},
   "outputs": [
    {
     "data": {
      "text/plain": [
       "1×4 Array{Int64,2}:\n",
       " 1  3  4  5"
      ]
     },
     "execution_count": 20,
     "metadata": {},
     "output_type": "execute_result"
    }
   ],
   "source": [
    "massive"
   ]
  },
  {
   "cell_type": "markdown",
   "metadata": {},
   "source": [
    "## Задание 7\n",
    "Дополнить функцию `insertsort!` процедурой \"быстрого поиска\"."
   ]
  },
  {
   "cell_type": "markdown",
   "metadata": {},
   "source": [
    "Вспомогалтельная функция быстрого поиска"
   ]
  },
  {
   "cell_type": "code",
   "execution_count": 21,
   "metadata": {},
   "outputs": [
    {
     "data": {
      "text/plain": [
       "quicksearch (generic function with 1 method)"
      ]
     },
     "execution_count": 21,
     "metadata": {},
     "output_type": "execute_result"
    }
   ],
   "source": [
    "function quicksearch(iter,val)\n",
    "    left = 1\n",
    "    right = length(iter)\n",
    "    while left < right && val != iter[div(left + right, 2)]\n",
    "        if val > iter[left]\n",
    "            left = left+1\n",
    "        end\n",
    "        if val < iter[right]\n",
    "            right = right-1\n",
    "        end\n",
    "    end\n",
    "    midl = div(left + right, 2)\n",
    "    if val != iter[midl]\n",
    "        if val < iter[midl]\n",
    "            midl = midl-1\n",
    "        elseif val>iter[midl]\n",
    "            midl=midl+1\n",
    "        end\n",
    "    end\n",
    "    return midl\n",
    "end"
   ]
  },
  {
   "cell_type": "code",
   "execution_count": 22,
   "metadata": {
    "scrolled": true
   },
   "outputs": [
    {
     "data": {
      "text/plain": [
       "insertsort! (generic function with 1 method)"
      ]
     },
     "execution_count": 22,
     "metadata": {},
     "output_type": "execute_result"
    }
   ],
   "source": [
    "function insertsort!(a)\n",
    "    for k in 2:length(a)\n",
    "        ind = quicksearch(a[1:k-1], a[k])\n",
    "        if ind == 0\n",
    "            ind = 1\n",
    "        end\n",
    "        insert!(a, ind, a[k])\n",
    "        deleteat!(a, k+1)\n",
    "    end\n",
    "    return a\n",
    "end"
   ]
  },
  {
   "cell_type": "markdown",
   "metadata": {},
   "source": [
    "Проверим, что функция работает верно:"
   ]
  },
  {
   "cell_type": "code",
   "execution_count": 23,
   "metadata": {},
   "outputs": [
    {
     "data": {
      "text/plain": [
       "4-element Array{Int64,1}:\n",
       " 1\n",
       " 3\n",
       " 4\n",
       " 5"
      ]
     },
     "execution_count": 23,
     "metadata": {},
     "output_type": "execute_result"
    }
   ],
   "source": [
    "massive = [1, 5, 3, 4]\n",
    "insertsort!(massive)"
   ]
  }
 ],
 "metadata": {
  "kernelspec": {
   "display_name": "Julia 1.5.1",
   "language": "julia",
   "name": "julia-1.5"
  },
  "language_info": {
   "file_extension": ".jl",
   "mimetype": "application/julia",
   "name": "julia",
   "version": "1.5.1"
  }
 },
 "nbformat": 4,
 "nbformat_minor": 4
}
